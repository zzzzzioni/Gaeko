{
 "cells": [
  {
   "cell_type": "markdown",
   "metadata": {},
   "source": [
    "### title을 uique하게 DB 갱신 그리고 여기 ID를 PK로 사용"
   ]
  },
  {
   "cell_type": "code",
   "execution_count": 3,
   "metadata": {},
   "outputs": [],
   "source": [
    "import sqlalchemy\n",
    "from sqlalchemy import create_engine\n",
    "import pymysql\n",
    "import pandas as pd\n",
    "\n",
    "MYSQL_HOSTNAME = '103.57.61.85'\n",
    "MYSQL_USER = 'zioni'\n",
    "MYSQL_PASSWORD = 'kitty'\n",
    "MYSQL_DATABASE = 'perfume_db'\n",
    "\n",
    "connection_string = f'mysql+pymysql://{MYSQL_USER}:{MYSQL_PASSWORD}@{MYSQL_HOSTNAME}/{MYSQL_DATABASE}'\n",
    "con = create_engine(connection_string)"
   ]
  },
  {
   "cell_type": "code",
   "execution_count": 4,
   "metadata": {},
   "outputs": [],
   "source": [
    "query_1 = \"\"\"\n",
    "SELECT * FROM PERFUME_GROUPS\n",
    "\"\"\".format(MYSQL_DATABASE)\n",
    "\n",
    "perfume_by_grp = pd.read_sql(query_1, con)\n",
    "\n",
    "query_2 = \"\"\"\n",
    "SELECT * FROM PERFUME_NOTES\n",
    "\"\"\".format(MYSQL_DATABASE)\n",
    "\n",
    "perfume_by_nt = pd.read_sql(query_2, con)\n",
    "\n",
    "query_3 = \"\"\"\n",
    "SELECT * FROM NOTES_MAP\n",
    "\"\"\".format(MYSQL_DATABASE)\n",
    "\n",
    "nt_map = pd.read_sql(query_3, con)"
   ]
  },
  {
   "cell_type": "code",
   "execution_count": 5,
   "metadata": {},
   "outputs": [],
   "source": [
    "perfume_by_nt = perfume_by_nt.drop_duplicates(subset='title')\n",
    "perfume_by_nt.reset_index(inplace=True, drop=True)\n",
    "\n",
    "perfume_by_grp = perfume_by_grp.drop_duplicates(subset='title')\n",
    "perfume_by_grp.reset_index(inplace=True, drop=True)"
   ]
  },
  {
   "cell_type": "code",
   "execution_count": 6,
   "metadata": {},
   "outputs": [
    {
     "data": {
      "text/plain": [
       "30968"
      ]
     },
     "execution_count": 6,
     "metadata": {},
     "output_type": "execute_result"
    }
   ],
   "source": [
    "perfume_by_grp.to_sql('PERFUME_GROUPS', con=con, index=False, if_exists='replace')\n",
    "perfume_by_nt.to_sql('PERFUME_NOTES', con=con, index=False, if_exists='replace')"
   ]
  },
  {
   "cell_type": "markdown",
   "metadata": {},
   "source": [
    "##### Embedding (top, middle, base)"
   ]
  },
  {
   "cell_type": "code",
   "execution_count": 7,
   "metadata": {},
   "outputs": [
    {
     "name": "stderr",
     "output_type": "stream",
     "text": [
      "/data/shopai/envshop/lib/python3.10/site-packages/sentence_transformers/cross_encoder/CrossEncoder.py:11: TqdmExperimentalWarning: Using `tqdm.autonotebook.tqdm` in notebook mode. Use `tqdm.tqdm` instead to force console mode (e.g. in jupyter console)\n",
      "  from tqdm.autonotebook import tqdm, trange\n",
      "2024-09-23 13:26:23.221808: I tensorflow/core/util/port.cc:153] oneDNN custom operations are on. You may see slightly different numerical results due to floating-point round-off errors from different computation orders. To turn them off, set the environment variable `TF_ENABLE_ONEDNN_OPTS=0`.\n",
      "2024-09-23 13:26:23.234291: E external/local_xla/xla/stream_executor/cuda/cuda_fft.cc:485] Unable to register cuFFT factory: Attempting to register factory for plugin cuFFT when one has already been registered\n",
      "2024-09-23 13:26:23.251079: E external/local_xla/xla/stream_executor/cuda/cuda_dnn.cc:8454] Unable to register cuDNN factory: Attempting to register factory for plugin cuDNN when one has already been registered\n",
      "2024-09-23 13:26:23.256004: E external/local_xla/xla/stream_executor/cuda/cuda_blas.cc:1452] Unable to register cuBLAS factory: Attempting to register factory for plugin cuBLAS when one has already been registered\n",
      "2024-09-23 13:26:23.268440: I tensorflow/core/platform/cpu_feature_guard.cc:210] This TensorFlow binary is optimized to use available CPU instructions in performance-critical operations.\n",
      "To enable the following instructions: AVX2 AVX512F AVX512_VNNI FMA, in other operations, rebuild TensorFlow with the appropriate compiler flags.\n",
      "2024-09-23 13:26:24.316096: W tensorflow/compiler/tf2tensorrt/utils/py_utils.cc:38] TF-TRT Warning: Could not find TensorRT\n"
     ]
    }
   ],
   "source": [
    "from sentence_transformers import SentenceTransformer\n",
    "\n",
    "# SBERT 모델 로드\n",
    "model = SentenceTransformer('paraphrase-MiniLM-L6-v2')"
   ]
  },
  {
   "cell_type": "code",
   "execution_count": 8,
   "metadata": {},
   "outputs": [],
   "source": [
    "map = {\n",
    "    'citrus' : 0,\n",
    "    'fruit' : 1,\n",
    "    'floral' : 2,\n",
    "    'white_floral' : 3,\n",
    "    'green' : 4,\n",
    "    'spicy' : 5,\n",
    "    'sweet' : 6,\n",
    "    'woody' : 7,\n",
    "    'beverage' : 8,\n",
    "    'synthetic' : 9,\n",
    "    'animal' : 10,\n",
    "    'balsamic' : 11  \n",
    "}"
   ]
  },
  {
   "cell_type": "code",
   "execution_count": 9,
   "metadata": {},
   "outputs": [
    {
     "name": "stderr",
     "output_type": "stream",
     "text": [
      "  2%|▏         | 496/30968 [00:10<09:51, 51.51it/s]"
     ]
    }
   ],
   "source": [
    "from tqdm import tqdm\n",
    "import numpy as np\n",
    "\n",
    "dists = []\n",
    "embs = []\n",
    "name_embs = []\n",
    "\n",
    "for i in tqdm(range(len(perfume_by_grp))):\n",
    "    temp = list(perfume_by_grp.iloc[i])[2:-1]\n",
    "    name = list(perfume_by_grp.iloc[i])[1]\n",
    "    temp = [item for item in temp if item is not None]\n",
    "    \n",
    "    # group distribution vector\n",
    "    dist = [0 for i in range(12)]\n",
    "    for i in temp:\n",
    "        dist[map[i]] += 1\n",
    "    \n",
    "    dist = np.array(dist) / len(temp)\n",
    "    dists.append(dist)\n",
    "    \n",
    "    # note group embedding vector\n",
    "    n = len(temp)\n",
    "    split1 = n // 3\n",
    "    split2 = split1 + (n % 3)  # 나머지를 가운데 부분에 추가\n",
    "    split3 = n - (split1 + split2) \n",
    "\n",
    "    part1 = temp[:split1]\n",
    "    part2 = temp[split1:split1 + split2]\n",
    "    part3 = temp[split1 + split2:]\n",
    "\n",
    "    emb = []\n",
    "    for part in [part1, part2, part3]:\n",
    "        set_part = list(set(part))\n",
    "        emb.extend(model.encode(' '.join(set_part)))\n",
    "    \n",
    "    name_embs.append(model.encode(name))    \n",
    "    embs.append(np.array(emb))\n",
    "    "
   ]
  },
  {
   "cell_type": "markdown",
   "metadata": {},
   "source": [
    "##### Chroma DB에 저장"
   ]
  },
  {
   "cell_type": "code",
   "execution_count": 2,
   "metadata": {},
   "outputs": [],
   "source": [
    "# DB 클라이언트 생성 \n",
    "import chromadb\n",
    "from chromadb.config import Settings\n",
    "\n",
    "client = chromadb.Client(Settings(\n",
    "    persist_directory=\"./chroma\"  # 데이터가 저장될 디렉토리 경로 지정\n",
    "))"
   ]
  },
  {
   "cell_type": "code",
   "execution_count": null,
   "metadata": {},
   "outputs": [],
   "source": [
    "\n",
    "perfume_name = client.get_collection(\"perfume_name\")\n",
    "perfume_note = client.get_collection(\"perfume_note\")\n",
    "perfume_dist = client.get_collection(\"perfume_dist\")"
   ]
  },
  {
   "cell_type": "code",
   "execution_count": 11,
   "metadata": {},
   "outputs": [],
   "source": [
    "names = list(perfume_by_grp['title'])\n",
    "\n",
    "for idx, name in enumerate(names):\n",
    "    \n",
    "    # Numpy 배열을 1차원 리스트로 변환하여 추가\n",
    "    perfume_name.add(\n",
    "        documents=[name],  # 문서 데이터 추가\n",
    "        embeddings=[name_embs[idx].tolist()],  # Numpy 배열을 완전히 리스트로 변환\n",
    "        ids=[str(idx)]  # 고유 ID\n",
    "    )\n",
    "    \n",
    "    perfume_note.add(\n",
    "        documents=[name],  # 문서 데이터 추가\n",
    "        embeddings=[embs[idx].tolist()],  # Numpy 배열을 완전히 리스트로 변환\n",
    "        ids=[str(idx)]  # 고유 ID\n",
    "    )\n",
    "    \n",
    "    perfume_dist.add(\n",
    "        documents=[name],  # 문서 데이터 추가\n",
    "        embeddings=[dists[idx].tolist()],  # Numpy 배열을 완전히 리스트로 변환\n",
    "        ids=[str(idx)]  # 고유 ID\n",
    "    )\n"
   ]
  },
  {
   "cell_type": "markdown",
   "metadata": {},
   "source": [
    "##### 유사도 비교 테스트"
   ]
  },
  {
   "cell_type": "code",
   "execution_count": 2,
   "metadata": {},
   "outputs": [
    {
     "ename": "InvalidCollectionException",
     "evalue": "Collection perfume_name does not exist.",
     "output_type": "error",
     "traceback": [
      "\u001b[0;31m---------------------------------------------------------------------------\u001b[0m",
      "\u001b[0;31mInvalidCollectionException\u001b[0m                Traceback (most recent call last)",
      "Cell \u001b[0;32mIn[2], line 11\u001b[0m\n\u001b[1;32m      8\u001b[0m client \u001b[39m=\u001b[39m chromadb\u001b[39m.\u001b[39mClient()\n\u001b[1;32m     10\u001b[0m \u001b[39m# 컬렉션 로드 \u001b[39;00m\n\u001b[0;32m---> 11\u001b[0m collection \u001b[39m=\u001b[39m client\u001b[39m.\u001b[39;49mget_collection(\u001b[39m'\u001b[39;49m\u001b[39mperfume_name\u001b[39;49m\u001b[39m'\u001b[39;49m)\n",
      "File \u001b[0;32m/data/shopai/envshop/lib/python3.10/site-packages/chromadb/api/client.py:142\u001b[0m, in \u001b[0;36mClient.get_collection\u001b[0;34m(self, name, id, embedding_function, data_loader)\u001b[0m\n\u001b[1;32m    132\u001b[0m \u001b[39m@override\u001b[39m\n\u001b[1;32m    133\u001b[0m \u001b[39mdef\u001b[39;00m \u001b[39mget_collection\u001b[39m(\n\u001b[1;32m    134\u001b[0m     \u001b[39mself\u001b[39m,\n\u001b[0;32m   (...)\u001b[0m\n\u001b[1;32m    140\u001b[0m     data_loader: Optional[DataLoader[Loadable]] \u001b[39m=\u001b[39m \u001b[39mNone\u001b[39;00m,\n\u001b[1;32m    141\u001b[0m ) \u001b[39m-\u001b[39m\u001b[39m>\u001b[39m Collection:\n\u001b[0;32m--> 142\u001b[0m     model \u001b[39m=\u001b[39m \u001b[39mself\u001b[39;49m\u001b[39m.\u001b[39;49m_server\u001b[39m.\u001b[39;49mget_collection(\n\u001b[1;32m    143\u001b[0m         \u001b[39mid\u001b[39;49m\u001b[39m=\u001b[39;49m\u001b[39mid\u001b[39;49m,\n\u001b[1;32m    144\u001b[0m         name\u001b[39m=\u001b[39;49mname,\n\u001b[1;32m    145\u001b[0m         tenant\u001b[39m=\u001b[39;49m\u001b[39mself\u001b[39;49m\u001b[39m.\u001b[39;49mtenant,\n\u001b[1;32m    146\u001b[0m         database\u001b[39m=\u001b[39;49m\u001b[39mself\u001b[39;49m\u001b[39m.\u001b[39;49mdatabase,\n\u001b[1;32m    147\u001b[0m     )\n\u001b[1;32m    148\u001b[0m     \u001b[39mreturn\u001b[39;00m Collection(\n\u001b[1;32m    149\u001b[0m         client\u001b[39m=\u001b[39m\u001b[39mself\u001b[39m\u001b[39m.\u001b[39m_server,\n\u001b[1;32m    150\u001b[0m         model\u001b[39m=\u001b[39mmodel,\n\u001b[1;32m    151\u001b[0m         embedding_function\u001b[39m=\u001b[39membedding_function,\n\u001b[1;32m    152\u001b[0m         data_loader\u001b[39m=\u001b[39mdata_loader,\n\u001b[1;32m    153\u001b[0m     )\n",
      "File \u001b[0;32m/data/shopai/envshop/lib/python3.10/site-packages/chromadb/telemetry/opentelemetry/__init__.py:146\u001b[0m, in \u001b[0;36mtrace_method.<locals>.decorator.<locals>.wrapper\u001b[0;34m(*args, **kwargs)\u001b[0m\n\u001b[1;32m    144\u001b[0m \u001b[39mglobal\u001b[39;00m tracer, granularity\n\u001b[1;32m    145\u001b[0m \u001b[39mif\u001b[39;00m trace_granularity \u001b[39m<\u001b[39m granularity:\n\u001b[0;32m--> 146\u001b[0m     \u001b[39mreturn\u001b[39;00m f(\u001b[39m*\u001b[39;49margs, \u001b[39m*\u001b[39;49m\u001b[39m*\u001b[39;49mkwargs)\n\u001b[1;32m    147\u001b[0m \u001b[39mif\u001b[39;00m \u001b[39mnot\u001b[39;00m tracer:\n\u001b[1;32m    148\u001b[0m     \u001b[39mreturn\u001b[39;00m f(\u001b[39m*\u001b[39margs, \u001b[39m*\u001b[39m\u001b[39m*\u001b[39mkwargs)\n",
      "File \u001b[0;32m/data/shopai/envshop/lib/python3.10/site-packages/chromadb/api/segment.py:251\u001b[0m, in \u001b[0;36mSegmentAPI.get_collection\u001b[0;34m(self, name, id, tenant, database)\u001b[0m\n\u001b[1;32m    249\u001b[0m     \u001b[39mreturn\u001b[39;00m existing[\u001b[39m0\u001b[39m]\n\u001b[1;32m    250\u001b[0m \u001b[39melse\u001b[39;00m:\n\u001b[0;32m--> 251\u001b[0m     \u001b[39mraise\u001b[39;00m InvalidCollectionException(\u001b[39mf\u001b[39m\u001b[39m\"\u001b[39m\u001b[39mCollection \u001b[39m\u001b[39m{\u001b[39;00mname\u001b[39m}\u001b[39;00m\u001b[39m does not exist.\u001b[39m\u001b[39m\"\u001b[39m)\n",
      "\u001b[0;31mInvalidCollectionException\u001b[0m: Collection perfume_name does not exist."
     ]
    }
   ],
   "source": [
    "import chromadb\n",
    "from sentence_transformers import SentenceTransformer\n",
    "\n",
    "# SBERT 모델 로드\n",
    "model = SentenceTransformer('paraphrase-MiniLM-L6-v2')\n",
    "\n",
    "# 클라이언트 생성\n",
    "client = chromadb.Client()\n",
    "\n",
    "# 컬렉션 로드 \n",
    "collection = client.get_collection('perfume_name')"
   ]
  }
 ],
 "metadata": {
  "kernelspec": {
   "display_name": "envshop",
   "language": "python",
   "name": "envshop"
  },
  "language_info": {
   "codemirror_mode": {
    "name": "ipython",
    "version": 3
   },
   "file_extension": ".py",
   "mimetype": "text/x-python",
   "name": "python",
   "nbconvert_exporter": "python",
   "pygments_lexer": "ipython3",
   "version": "3.10.12"
  },
  "orig_nbformat": 4
 },
 "nbformat": 4,
 "nbformat_minor": 2
}
