{
 "cells": [
  {
   "cell_type": "code",
   "execution_count": 16,
   "metadata": {},
   "outputs": [],
   "source": [
    "from openai import AzureOpenAI\n",
    "import yaml\n",
    "\n",
    "with open('openai.yaml') as f:\n",
    "    config = yaml.safe_load(f)\n",
    "\n",
    "api_version = config[\"config\"][\"api_version\"]\n",
    "azure_endpoint = config[\"config\"][\"azure_endpoint\"]\n",
    "api_key = config[\"config\"][\"api_key\"]\n",
    "\n",
    "user_input_1 = \"꽃냄새가 좋아 특히 장미 같은 분홍색 꽃향기, 자연스러운 꽃냄새와 그리고 포근한 향이 좋아. 살냄새가 부드럽게 나는 것! 달콤한 베리류도 좋아.\"\n",
    "user_input_2 = \"샤넬 레젝 1957 향수를 좋아해. 그리고 클린 향수들은 다 내 취향인듯\""
   ]
  },
  {
   "cell_type": "code",
   "execution_count": 11,
   "metadata": {},
   "outputs": [
    {
     "name": "stdout",
     "output_type": "stream",
     "text": [
      "['floral', 'animal', 'sweet']\n"
     ]
    }
   ],
   "source": [
    "client = AzureOpenAI(\n",
    "    api_version = api_version,\n",
    "    azure_endpoint = azure_endpoint,\n",
    "    api_key = api_key\n",
    ")   \n",
    "    \n",
    "response = client.chat.completions.create(\n",
    "    model = \"hatcheryOpenaiCanadaGPT4o\",\n",
    "    messages=[\n",
    "        {\"role\": \"system\", \"content\": \"\"\"\n",
    "\n",
    "넌 '사용자'가 좋아하는 향기를 그룹으로 분류하는 역할을 해.\n",
    "'사용자'의 입력을 이해하고, 좋아한다고 이야기한 향기/냄새를 아래 12개의 그룹 중 하나로 각각 매핑해줘.\n",
    "답변은 그룹의 리스트만 출력해줘.\n",
    "각 그룹이 어떤 향기/냄새들을 의미하는지 읽고 사용자가 좋아하는 향을 그룹으로 매핑해줘.\n",
    "        \n",
    "<group>\n",
    "-그룹 : ['animal', 'balsamic', 'beverage', 'citrus', floral', 'fruit', 'green', 'spicy', 'sweet', 'synthetic', 'white_floral', 'woody']\n",
    "1. animal : 가죽, 모피 등 동물에서 유래한 향조로, 포근한 살냄새, 풍부하고 따뜻하며 감각적인 느낌, 예시) 엠버, 머스크계열, 살냄새, 암브레트, 등\n",
    "2. balsamic : 부드럽고 따뜻한 향조로, 달콤하고 크리미한 느낌을 주며 오리엔탈 향, 예시) 벤조인, 수지, 레진류\n",
    "3. beverage : 커피, 와인, 차와 같은 음료에서 영감을 받은 향조로, 독특하면서도 깊이 있는 향, 예시) 술종류, 차종류, 음료종류\n",
    "4. citrus : 주로 레몬, 오렌지, 자몽 등 감귤류에서 추출된 상큼하고 밝은 향, 신선하고 시원하고 상쾌한 향, 예시) 베르가못, 오렌지류, 자몽류, 레몬류, 귤류, 유자, 라임 등\n",
    "5. floral : 꽃에서 추출된 향조로, 우아하고 여성스러운 향, 예시) 꽃종류, 장미, 라일락 등 \n",
    "6. fruit : 과일에서 나온 향조로, 달콤하고 상큼한 과일의 향, 예시) 베리류, 복숭아, 사과 등\n",
    "7. green : 풀, 나뭇잎, 허브 등 자연의 푸른 향을 담은 향조로, 신선하고 상쾌하며 자연스러운 느낌, 예시) 풀종류, 잎종류 등\n",
    "8. spicy : 계피, 정향, 후추와 같은 향신료에서 나온 향조로, 따뜻하고 톡 쏘는 느낌, 강렬함, 예시) 계피, 정향, 후추, 바닐라 등 \n",
    "9. sweet : 설탕, 꿀, 캐러멜 같은 달콤한 향조로, 부드럽고 풍부한 향, 예시) 디저트류, 설탕, 꿀, 캐러맬 등 단 음식류\n",
    "10. synthetic : 파우더리, 알데하이드, 담배, 메탈릭, aeric, 종이, 물 등 순수 자연물 외의 향기 \n",
    "11. white_floral : 가드니아, 튜베로즈 같은 흰 꽃에서 추출된 향조로, 깨끗하고 순수하며 풍성한 꽃향기, 예시) 오렌지꽃, 자스민, 백함 등\n",
    "12. woody : 샌달우드, 시더우드 같은 나무에서 추출된 향조로, 따뜻하고 안정감을 주며 깊이 있는 향, 예시) 나무종류, 절간냄새 등\n",
    "</group>\n",
    "\n",
    "<example>\n",
    "'사용자'의 입력 예시: \"난 상큼한 향을 좋아해. 레몬이나 자몽같은.. 그리고 포근한 냄새를 좋아하는 것 같아. 주로 머스크 계열! 그리고 화이트 플로럴 계열이 좋아\"\n",
    "답변 예시: ['citrus', 'animal', 'white_floral']\n",
    "</example> \"\"\"},\n",
    "        {\"role\": \"user\", \"content\": f\"\"\"\n",
    "<input>\n",
    "-'사용자'의 입력 : {user_input_1}\n",
    "</input>\n",
    "         \"\"\"}   \n",
    "    ]\n",
    ")\n",
    "\n",
    "print(response.choices[0].message.content)"
   ]
  },
  {
   "cell_type": "code",
   "execution_count": 17,
   "metadata": {},
   "outputs": [
    {
     "name": "stdout",
     "output_type": "stream",
     "text": [
      "[['Chanel', 'Les Exclusifs de Chanel 1957 Chanel for women and men'], ['Clean', None]]\n"
     ]
    }
   ],
   "source": [
    "response = client.chat.completions.create(\n",
    "    model = \"hatcheryOpenaiCanadaGPT4o\",\n",
    "    messages=[\n",
    "        {\"role\": \"system\", \"content\": \"\"\"\n",
    "\n",
    "우리는 향수 brand와 title 정보를 담은 Database가 있어. \n",
    "'사용자'가 오래 사용했던 향수나 좋아하는 향수 브랜드를 입력으로 제시할 거야.\n",
    "'사용자'의 입력을 Database에 검색할 수 있도록 Fragrantica에서 사용하는 영어 brand와 title으로 정제하는 역할을 해줘.\n",
    "잘 모르겠으면 웹 검색을 통해 정확한 정보를 제공해줘.\n",
    "'사용자'는 brand와 title 중 하나만 입력할 수도 있으니 '사용자'가 제시하지 않는 정보는 None 처리해줘.\n",
    "답변은 향수 정보를 담은 리스트만 출력해줘.\n",
    "\n",
    "<example1>\n",
    "'사용자'의 입력 예시: \"나는 메종프란시스커정의 바카라루쥬를 오래썼어. 또 딥디크 오데썽도 좋아해.\"\n",
    "답변 예시: [['Maison-Francis-Kurkdjian', 'Baccarat Rouge 540 Maison Francis Kurkdjian for women and men'], ['Diptyque', 'Eau des Sens Diptyque for women and men']]\n",
    "</example1>\n",
    "\n",
    "<example2>\n",
    "'사용자'의 입력 예시: \"조말론의 블루베리 향수를 좋아해. 그리고 대체로 캘빈클라인 향수들은 나랑 잘 맞는 것 같아\"\n",
    "답변 예시: [['Jo-Malone-London', 'Blackberry & Bay Jo Malone London for women'], ['Calvin-Klein', None]]\n",
    "</example2>\n",
    "\n",
    "<example3>\n",
    "'사용자'의 입력 예시: \"네롤리포르토피노라는 향수를 좋아하는데 브랜드는 기억 안나\"\n",
    "답변 예시: [['Tom-Ford', 'Neroli Portofino Acqua Tom Ford for women and men']]\n",
    "</example3>  \"\"\"},\n",
    "        \n",
    "        {\"role\": \"user\", \"content\": f\"\"\"\n",
    "<input>\n",
    "-'사용자'의 입력 : {user_input_2}\n",
    "</input>\n",
    "         \"\"\"}   \n",
    "    ]\n",
    ")\n",
    "\n",
    "print(response.choices[0].message.content)"
   ]
  },
  {
   "cell_type": "code",
   "execution_count": null,
   "metadata": {},
   "outputs": [],
   "source": []
  }
 ],
 "metadata": {
  "kernelspec": {
   "display_name": "envshop",
   "language": "python",
   "name": "envshop"
  },
  "language_info": {
   "codemirror_mode": {
    "name": "ipython",
    "version": 3
   },
   "file_extension": ".py",
   "mimetype": "text/x-python",
   "name": "python",
   "nbconvert_exporter": "python",
   "pygments_lexer": "ipython3",
   "version": "3.10.12"
  },
  "orig_nbformat": 4
 },
 "nbformat": 4,
 "nbformat_minor": 2
}
